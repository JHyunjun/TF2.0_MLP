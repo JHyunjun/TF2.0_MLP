{
  "nbformat": 4,
  "nbformat_minor": 0,
  "metadata": {
    "colab": {
      "name": "TF2.0_MLP_T.ipynb",
      "private_outputs": true,
      "provenance": [],
      "mount_file_id": "1-b3gjX1ggC14vKcM0fNyW7c1NX5i_-lA",
      "authorship_tag": "ABX9TyNVdIjitRPkK83ISHfBHjFd",
      "include_colab_link": true
    },
    "kernelspec": {
      "name": "python3",
      "display_name": "Python 3"
    },
    "language_info": {
      "name": "python"
    },
    "gpuClass": "standard"
  },
  "cells": [
    {
      "cell_type": "markdown",
      "metadata": {
        "id": "view-in-github",
        "colab_type": "text"
      },
      "source": [
        "<a href=\"https://colab.research.google.com/github/JHyunjun/TF2.0_Multi-Layer-Perceptron/blob/main/TF2_0_MLP_T.ipynb\" target=\"_parent\"><img src=\"https://colab.research.google.com/assets/colab-badge.svg\" alt=\"Open In Colab\"/></a>"
      ]
    },
    {
      "cell_type": "code",
      "execution_count": null,
      "metadata": {
        "id": "62T1hZ4PPHfI"
      },
      "outputs": [],
      "source": [
        "# Created by Hyunjun, JANG\n",
        "# limitsinx.tistory.com\n",
        "\n",
        "import numpy as np\n",
        "import pandas as pd\n",
        "import tensorflow as tf\n",
        "import pandas_datareader.data as pdr\n",
        "import matplotlib.pyplot as plt\n",
        "import datetime\n",
        "tf.random.set_seed(1)\n",
        "\n",
        "#Data Load\n",
        "df_train = pd.read_csv('/content/drive/MyDrive/Colab Notebooks/Data/The2_MAX.txt')\n",
        "train_data = df_train.iloc[:60000,:]\n",
        "test_data = df_train.iloc[60000:,:]\n",
        "print(train_data)"
      ]
    },
    {
      "cell_type": "code",
      "source": [
        "#Normalization\n",
        "def MinMaxScaler(data):\n",
        "  denom = np.max(data,0) - np.min(data,0)\n",
        "  nume = data-np.min(data,0)\n",
        "  return nume/denom\n",
        "\n",
        "def back_MinMax(data,max,min):\n",
        "  diff = max-min\n",
        "  back = data * diff + min\n",
        "  return back"
      ],
      "metadata": {
        "id": "9vzhdd2-Pamx"
      },
      "execution_count": null,
      "outputs": []
    },
    {
      "cell_type": "code",
      "source": [
        "trainSize = int(len(train_data))\n",
        "trainSet = train_data[0:trainSize]\n",
        "trainSet = MinMaxScaler(trainSet)\n",
        "print(trainSet)\n",
        "\n",
        "\n",
        "testSize = int(len(test_data))\n",
        "testSet = test_data[0:testSize]\n",
        "testSet = MinMaxScaler(testSet)\n",
        "print(testSet)"
      ],
      "metadata": {
        "id": "Z-gsngksPcbP"
      },
      "execution_count": null,
      "outputs": []
    },
    {
      "cell_type": "code",
      "source": [
        "# Data Preprocessing\n",
        "input_dim = trainSet.shape[1]-1\n",
        "trainX = trainSet.iloc[:,0:input_dim]\n",
        "trainY = trainSet.iloc[:,-1]\n",
        "print(trainX)\n",
        "\n",
        "testX = testSet.iloc[:, 0:input_dim]\n",
        "testY = testSet.iloc[:,-1]\n",
        "print(testX)"
      ],
      "metadata": {
        "id": "h3ggW9mAPkBf"
      },
      "execution_count": null,
      "outputs": []
    },
    {
      "cell_type": "code",
      "source": [
        "# Multi Layer Perceptron(MLP) Modeling\n",
        "# Activation function \"tanh\" : Glorot normal initializer\n",
        "# Activation function \"reLU\" : He Initiailizer\n",
        "\n",
        "dataDim = trainSet.shape[1]-1\n",
        "outputDim = 1\n",
        "hiddenDim = 40\n",
        "lr = 0.001\n",
        "iterations = 4\n",
        "batch_size = 16\n",
        "\n",
        "from tensorflow import keras\n",
        "from tensorflow.keras import layers\n",
        "\n",
        "initializer = tf.keras.initializers.GlorotNormal()\n",
        "input_dim = trainSet.shape[1]-1\n",
        "model = keras.Sequential()\n",
        "model.add(layers.Dense(units = hiddenDim, activation='linear',input_dim = input_dim, kernel_initializer = initializer))\n",
        "model.add(layers.Dense(units = hiddenDim, activation = 'linear', kernel_initializer = initializer))\n",
        "model.add(layers.Dense(units = hiddenDim, activation = 'linear', kernel_initializer = initializer))\n",
        "model.add(layers.Dense(units = hiddenDim, activation = 'linear', kernel_initializer = initializer))\n",
        "model.add(layers.Dense(outputDim, activation='sigmoid'))\n",
        "adam = keras.optimizers.Adam(lr = lr)\n",
        "model.compile(optimizer=adam, loss='mse')\n",
        "model.summary()"
      ],
      "metadata": {
        "id": "LmkCi1m8Pq74"
      },
      "execution_count": null,
      "outputs": []
    },
    {
      "cell_type": "code",
      "source": [
        "hist = model.fit(trainX, trainY, epochs = iterations, batch_size = batch_size)"
      ],
      "metadata": {
        "id": "hEkikt4yP7dp"
      },
      "execution_count": null,
      "outputs": []
    },
    {
      "cell_type": "code",
      "source": [
        "xhat = trainX\n",
        "yhat = model.predict(xhat)\n",
        "trainY = trainY.to_numpy()\n",
        "print(\"test Y : \", trainY, trainY.shape,type(testY))\n",
        "print(\"yhat : \",yhat, yhat.shape,type(yhat))\n",
        "print(trainX)"
      ],
      "metadata": {
        "id": "AngbFotLP_eQ"
      },
      "execution_count": null,
      "outputs": []
    },
    {
      "cell_type": "code",
      "source": [
        "#Train Value\n",
        "\n",
        "plt.figure()\n",
        "X = yhat * (43-20) + 20\n",
        "Y = trainY * (43-20) + 20\n",
        "plt.plot(X, label = \"Estimated Value\")\n",
        "plt.plot(Y, label = \"Real Value\")\n",
        "plt.legend(prop = {'size' : 10})"
      ],
      "metadata": {
        "id": "H3R8E4xdQmdh"
      },
      "execution_count": null,
      "outputs": []
    },
    {
      "cell_type": "code",
      "source": [
        "# Test Value\n",
        "\n",
        "xhat = testX\n",
        "yhat = model.predict(xhat)\n",
        "testY = testY.to_numpy()\n",
        "print(\"test Y : \", testY, testY.shape,type(testY))\n",
        "print(\"yhat : \",yhat, yhat.shape,type(yhat))\n",
        "#print(testX)\n",
        "\n",
        "\n",
        "plt.figure()\n",
        "X_t = yhat * (43-20) + 20\n",
        "Y_t = testY * (43-20) + 20\n",
        "plt.plot(X_t, label = \"Estimated Value\")\n",
        "plt.plot(Y_t, label = \"Real Value\")\n",
        "plt.legend(prop = {'size' : 10})"
      ],
      "metadata": {
        "id": "LXKmXWc-UDnQ"
      },
      "execution_count": null,
      "outputs": []
    },
    {
      "cell_type": "code",
      "source": [
        "#Error\n",
        "real = np.reshape(Y_t,(-1,1))\n",
        "error = X_t - real\n",
        "\n",
        "plt.figure()\n",
        "plt.plot(error)"
      ],
      "metadata": {
        "id": "xiIHvnnVWyEp"
      },
      "execution_count": null,
      "outputs": []
    }
  ]
}