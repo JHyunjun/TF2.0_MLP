{
  "nbformat": 4,
  "nbformat_minor": 0,
  "metadata": {
    "colab": {
      "name": "MLP_tf2.0.ipynb",
      "private_outputs": true,
      "provenance": [],
      "collapsed_sections": [],
      "mount_file_id": "1AkQs1hkDMfn2ne_7vb1sgDsG3jh1f9mB",
      "authorship_tag": "ABX9TyNdooWO3f6IVuhjtHsBSo3Q",
      "include_colab_link": true
    },
    "kernelspec": {
      "name": "python3",
      "display_name": "Python 3"
    },
    "language_info": {
      "name": "python"
    },
    "accelerator": "GPU"
  },
  "cells": [
    {
      "cell_type": "markdown",
      "metadata": {
        "id": "view-in-github",
        "colab_type": "text"
      },
      "source": [
        "<a href=\"https://colab.research.google.com/github/JHyunjun/TF2.0_MLP/blob/main/MLP_tf2_0.ipynb\" target=\"_parent\"><img src=\"https://colab.research.google.com/assets/colab-badge.svg\" alt=\"Open In Colab\"/></a>"
      ]
    },
    {
      "cell_type": "code",
      "execution_count": null,
      "metadata": {
        "id": "44UfphRUC9Gb"
      },
      "outputs": [],
      "source": [
        "# Created by Hyunjun, JANG\n",
        "# limitsinx.tistory.com\n",
        "\n",
        "import numpy as np\n",
        "import pandas as pd\n",
        "import tensorflow as tf\n",
        "import pandas_datareader.data as pdr\n",
        "import matplotlib.pyplot as plt\n",
        "import datetime\n",
        "tf.random.set_seed(1)\n",
        "\n",
        "#Data Load\n",
        "df_train = pd.read_csv('/content/drive/MyDrive/Colab Notebooks/Data/Batt/train_v.txt')\n",
        "df_test = pd.read_csv('/content/drive/MyDrive/Colab Notebooks/Data/Batt/test_v.txt')\n",
        "train_data = df_train.iloc[:,:]\n",
        "test_data = df_test.iloc[:,:]\n",
        "print(train_data)\n",
        "print(test_data)"
      ]
    },
    {
      "cell_type": "code",
      "source": [
        "#Normalization\n",
        "def MinMaxScaler(data):\n",
        "  denom = np.max(data,0) - np.min(data,0)\n",
        "  nume = data-np.min(data,0)\n",
        "  return nume/denom\n",
        "\n",
        "def back_MinMax(data,max,min):\n",
        "  diff = max-min\n",
        "  back = data * diff + min\n",
        "  return back"
      ],
      "metadata": {
        "id": "3gxSIbYyEi6c"
      },
      "execution_count": null,
      "outputs": []
    },
    {
      "cell_type": "code",
      "source": [
        "#Hyper parameters\n",
        "seqLength = 0\n",
        "dataDim = df_test.shape[1]\n",
        "outputDim = 1\n",
        "hiddenDim = 4\n",
        "lr = 0.002\n",
        "iterations = 10\n",
        "batch_size = 16\n",
        "\n",
        "trainSize = int(len(train_data))\n",
        "trainSet = train_data[0:trainSize]\n",
        "testSize = int(len(test_data))\n",
        "testSet = test_data[0:testSize]\n",
        "testSet_for_result = testSet\n",
        "\n",
        "trainSet_max = np.max(trainSet)\n",
        "trainSet_min = np.min(trainSet)\n",
        "testSet_max = np.max(testSet)\n",
        "testSet_min = np.min(testSet)\n",
        "trainSet_max = (trainSet_max[dataDim-1])\n",
        "trainSet_min = (trainSet_min[dataDim-1])\n",
        "testSet_max = (testSet_max[dataDim-1])\n",
        "testSet_min = (testSet_min[dataDim-1])\n",
        "\n",
        "\n",
        "trainSet = MinMaxScaler(trainSet)\n",
        "testSet = MinMaxScaler(testSet)\n",
        "\n",
        "print(trainSet.shape) # (5807,5)\n",
        "print(testSet.shape) # (10882,5)"
      ],
      "metadata": {
        "id": "OjbFMLlfE_20"
      },
      "execution_count": null,
      "outputs": []
    },
    {
      "cell_type": "code",
      "source": [
        "# Data Preprocessing\n",
        "input_dim = trainSet.shape[1]-1\n",
        "trainX = trainSet.iloc[:,0:input_dim]\n",
        "trainY = trainSet.iloc[:,-1]\n",
        "testX = testSet.iloc[:,0:input_dim]\n",
        "testY = testSet.iloc[:,-1]"
      ],
      "metadata": {
        "id": "hkgAa-s25TfE"
      },
      "execution_count": null,
      "outputs": []
    },
    {
      "cell_type": "code",
      "source": [
        "# Multi Layer Perceptron(MLP) Modeling\n",
        "# Activation function \"tanh\" : Glorot normal initializer\n",
        "# Activation function \"reLU\" : He Initiailizer\n",
        "from tensorflow import keras\n",
        "from tensorflow.keras import layers\n",
        "\n",
        "initializer = tf.keras.initializers.GlorotNormal()\n",
        "input_dim = trainSet.shape[1]-1\n",
        "model = keras.Sequential()\n",
        "model.add(layers.Dense(units = hiddenDim, activation='linear',input_dim = input_dim, kernel_initializer = initializer))\n",
        "model.add(layers.Dense(units = hiddenDim, activation = 'linear', kernel_initializer = initializer))\n",
        "model.add(layers.Dense(units = hiddenDim, activation = 'linear', kernel_initializer = initializer))\n",
        "model.add(layers.Dense(units = hiddenDim, activation = 'linear', kernel_initializer = initializer))\n",
        "model.add(layers.Dense(outputDim, activation='linear'))\n",
        "adam = keras.optimizers.Adam(lr = lr)\n",
        "model.compile(optimizer=adam, loss='mse')\n",
        "model.summary()\n"
      ],
      "metadata": {
        "id": "dpgI1N9ZW1P0"
      },
      "execution_count": null,
      "outputs": []
    },
    {
      "cell_type": "code",
      "source": [
        "# Training\n",
        "hist = model.fit(trainX, trainY, epochs = iterations, batch_size = batch_size)"
      ],
      "metadata": {
        "id": "xjIIZqBue38u"
      },
      "execution_count": null,
      "outputs": []
    },
    {
      "cell_type": "code",
      "source": [
        "# Evaluate Testset\n",
        "res = model.evaluate(testX, testY, batch_size = batch_size)\n",
        "print(res)\n",
        "#res_batch_size1 = model.evaluate(testX, testY, batch_size = 1) #Very Slow\n"
      ],
      "metadata": {
        "id": "kQ-hAfInm4nL"
      },
      "execution_count": null,
      "outputs": []
    },
    {
      "cell_type": "code",
      "source": [
        "# Estimating\n",
        "xhat = testX\n",
        "yhat = model.predict(xhat)\n",
        "testY = testY.to_numpy()\n",
        "print(\"test Y : \", testY, testY.shape,type(testY))\n",
        "print(\"yhat : \",yhat, yhat.shape,type(yhat))\n",
        "\n",
        "print(\"RMSE : {}\".format(np.sqrt(np.average((yhat - testY)**2))))"
      ],
      "metadata": {
        "id": "zyDqzwynn_I1"
      },
      "execution_count": null,
      "outputs": []
    },
    {
      "cell_type": "code",
      "source": [
        "plt.figure()\n",
        "plt.plot(estimated[:len(estimated)],label = \"Estimated by MLP\")\n",
        "plt.plot(real[:len(real)], label = \"Real\")\n",
        "plt.legend(prop = {'size':10})"
      ],
      "metadata": {
        "id": "U__JUtnEzkRJ"
      },
      "execution_count": null,
      "outputs": []
    }
  ]
}