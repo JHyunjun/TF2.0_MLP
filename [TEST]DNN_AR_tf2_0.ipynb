{
  "nbformat": 4,
  "nbformat_minor": 0,
  "metadata": {
    "colab": {
      "name": "[TEST]DNN_AR_tf2_0.ipynb",
      "private_outputs": true,
      "provenance": [],
      "collapsed_sections": [],
      "include_colab_link": true
    },
    "kernelspec": {
      "name": "python3",
      "display_name": "Python 3"
    },
    "language_info": {
      "name": "python"
    },
    "accelerator": "GPU"
  },
  "cells": [
    {
      "cell_type": "markdown",
      "metadata": {
        "id": "view-in-github",
        "colab_type": "text"
      },
      "source": [
        "<a href=\"https://colab.research.google.com/github/JHyunjun/TF2.0_MLP/blob/main/%5BTEST%5DDNN_AR_tf2_0.ipynb\" target=\"_parent\"><img src=\"https://colab.research.google.com/assets/colab-badge.svg\" alt=\"Open In Colab\"/></a>"
      ]
    },
    {
      "cell_type": "code",
      "execution_count": null,
      "metadata": {
        "id": "44UfphRUC9Gb"
      },
      "outputs": [],
      "source": [
        "# Created by Hyunjun, JANG\n",
        "# limitsinx.tistory.com\n",
        "\n",
        "import numpy as np\n",
        "import pandas as pd\n",
        "import tensorflow as tf\n",
        "import pandas_datareader.data as pdr\n",
        "import matplotlib.pyplot as plt\n",
        "import datetime\n",
        "tf.random.set_seed(1)\n",
        "\n",
        "#Data Load\n",
        "df_train = pd.read_csv('/dir')\n",
        "df_test = pd.read_csv('/dir')\n",
        "ar_train_data = df_train\n",
        "ar_test_data = df_test\n",
        "testify = len(ar_test_data)/2\n",
        "testify = np.int(testify)\n",
        "print(testify)\n",
        "ar_train_data_X = df_train.iloc[:len(ar_train_data)-1:,[0,1,3,4]]\n",
        "ar_train_data_Y = df_train.iloc[1:len(ar_train_data):,-3]\n",
        "ar_test_data_X = df_test.iloc[:len(ar_test_data)-1:,[0,1,3,4]]\n",
        "ar_test_data_Y = df_test.iloc[1:len(ar_test_data):,-3]\n",
        "\n",
        "print(ar_train_data_X)\n",
        "print(ar_train_data_Y)"
      ]
    },
    {
      "cell_type": "code",
      "source": [
        "from google.colab import drive\n",
        "drive.mount('/content/drive')"
      ],
      "metadata": {
        "id": "0i_9Abod-bPt"
      },
      "execution_count": null,
      "outputs": []
    },
    {
      "cell_type": "code",
      "source": [
        "#Normalization\n",
        "def MinMaxScaler(data):\n",
        "  denom = np.max(data,0) - np.min(data,0)\n",
        "  nume = data-np.min(data,0)\n",
        "  return nume/denom\n",
        "\n",
        "def back_MinMax(data,max,min):\n",
        "  diff = max-min\n",
        "  back = data * diff + min\n",
        "  return back"
      ],
      "metadata": {
        "id": "3gxSIbYyEi6c"
      },
      "execution_count": null,
      "outputs": []
    },
    {
      "cell_type": "code",
      "source": [
        "# Data Preprocessing\n",
        "trainX_max = np.max(ar_train_data_X)\n",
        "trainY_max = np.max(ar_train_data_Y)\n",
        "trainX_min = np.min(ar_train_data_X)\n",
        "trainY_min = np.min(ar_train_data_Y)\n",
        "\n",
        "testX_max = np.max(ar_test_data_X)\n",
        "testY_max = np.max(ar_test_data_Y)\n",
        "testX_min = np.min(ar_test_data_X)\n",
        "testY_min = np.min(ar_test_data_Y)\n",
        "\n",
        "ar_test_data_X_testify_original = ar_test_data_X\n",
        "ar_test_data_Y_testify_original = ar_test_data_Y\n",
        "\n",
        "print(ar_test_data_X)\n",
        "ar_train_data_X = MinMaxScaler(ar_train_data_X)\n",
        "ar_train_data_Y = MinMaxScaler(ar_train_data_Y)\n",
        "\n",
        "ar_test_data_X = MinMaxScaler(ar_test_data_X)\n",
        "ar_test_data_Y = MinMaxScaler(ar_test_data_Y)\n",
        "\n",
        "testify = len(ar_test_data)/2\n",
        "testify = np.int(testify)\n",
        "ar_test_data_X_testify = ar_test_data_X[:testify]\n",
        "ar_test_data_Y_testify = ar_test_data_Y[testify:]\n",
        "\n",
        "print(ar_test_data_X_testify.shape)\n",
        "print(ar_test_data_X)\n",
        "print(ar_test_data_Y_testify.shape)\n",
        "print(ar_test_data_Y)\n",
        "print(\"TestX_max : \",testX_max)\n",
        "print(\"TestX_min : \",testX_min)\n"
      ],
      "metadata": {
        "id": "hkgAa-s25TfE"
      },
      "execution_count": null,
      "outputs": []
    },
    {
      "cell_type": "code",
      "source": [
        "# Activation function \"tanh\" : Glorot normal initializer\n",
        "# Activation function \"reLU\" : He Initiailizer\n",
        "from tensorflow import keras\n",
        "from tensorflow.keras import layers\n",
        "\n",
        "initializer = tf.keras.initializers.GlorotNormal()\n",
        "hiddenDim = 10\n",
        "input_dim = 4\n",
        "Dimension = 1\n",
        "lr = 0.001\n",
        "iterations = 10\n",
        "batch_size = 16\n",
        "\n",
        "model = keras.Sequential()\n",
        "model.add(layers.Dense(units = hiddenDim, activation='sigmoid',input_dim = input_dim, kernel_initializer = initializer))\n",
        "model.add(layers.Dense(units = hiddenDim, activation = 'sigmoid', kernel_initializer = initializer))\n",
        "model.add(layers.Dense(Dimension, activation='linear'))\n",
        "adam = keras.optimizers.Adam(lr = lr)\n",
        "model.compile(optimizer=adam, loss='mse')\n",
        "model.summary()\n",
        "\n",
        "model1 = keras.Sequential()\n",
        "model1.add(layers.Dense(units = hiddenDim, activation='relu',input_dim = input_dim, kernel_initializer = initializer))\n",
        "model1.add(layers.Dense(units = hiddenDim, activation = 'relu', kernel_initializer = initializer))\n",
        "model1.add(layers.Dense(Dimension, activation='linear'))\n",
        "adam = keras.optimizers.Adam(lr = lr)\n",
        "model1.compile(optimizer=adam, loss='mse')\n",
        "model1.summary()\n",
        "\n",
        "model2 = keras.Sequential()\n",
        "model2.add(layers.Dense(units = hiddenDim, activation='linear',input_dim = input_dim, kernel_initializer = initializer))\n",
        "model2.add(layers.Dense(units = hiddenDim, activation = 'linear', kernel_initializer = initializer))\n",
        "model2.add(layers.Dense(Dimension, activation='linear'))\n",
        "adam = keras.optimizers.Adam(lr = lr)\n",
        "model2.compile(optimizer=adam, loss='mse')\n",
        "model2.summary()\n"
      ],
      "metadata": {
        "id": "dpgI1N9ZW1P0"
      },
      "execution_count": null,
      "outputs": []
    },
    {
      "cell_type": "code",
      "source": [
        "# Training\n",
        "hist = model.fit(ar_train_data_X, ar_train_data_Y, epochs = iterations, batch_size = batch_size)\n",
        "hist1 = model1.fit(ar_train_data_X, ar_train_data_Y, epochs = iterations, batch_size = batch_size)\n",
        "hist2 = model2.fit(ar_train_data_X, ar_train_data_Y, epochs = iterations, batch_size = batch_size)"
      ],
      "metadata": {
        "id": "xjIIZqBue38u"
      },
      "execution_count": null,
      "outputs": []
    },
    {
      "cell_type": "code",
      "source": [
        "# Evaluate Testset\n",
        "res = model.evaluate(ar_train_data_X, ar_train_data_Y, batch_size = batch_size)\n",
        "print(res)\n",
        "#res_batch_size1 = model.evaluate(testX, testY, batch_size = 1) #Very Slow\n"
      ],
      "metadata": {
        "id": "kQ-hAfInm4nL"
      },
      "execution_count": null,
      "outputs": []
    },
    {
      "cell_type": "code",
      "source": [
        "# Estimating\n",
        "xhat = ar_test_data_X\n",
        "yhat = model.predict(xhat)\n",
        "testY = ar_test_data_Y.to_numpy()\n",
        "yhat = back_MinMax(yhat, testY_max, testY_min)\n",
        "testY = back_MinMax(testY, testY_max, testY_min)\n",
        "\n",
        "xhat = ar_test_data_X\n",
        "yhat1 = model1.predict(xhat)\n",
        "testY = ar_test_data_Y.to_numpy()\n",
        "yhat1 = back_MinMax(yhat1, testY_max, testY_min)\n",
        "testY = back_MinMax(testY, testY_max, testY_min)\n",
        "\n",
        "xhat = ar_test_data_X\n",
        "yhat2 = model2.predict(xhat)\n",
        "testY = ar_test_data_Y.to_numpy()\n",
        "yhat2 = back_MinMax(yhat2, testY_max, testY_min)\n",
        "testY = back_MinMax(testY, testY_max, testY_min)\n",
        "\n",
        "print(\"test Y : \", testY, testY.shape,type(testY))\n",
        "print(\"yhat : \",yhat, yhat.shape,type(yhat))\n",
        "\n",
        "print(\"RMSE : {}\".format(np.sqrt(np.average((yhat - testY)**2))))"
      ],
      "metadata": {
        "id": "zyDqzwynn_I1"
      },
      "execution_count": null,
      "outputs": []
    },
    {
      "cell_type": "code",
      "source": [
        "estimated = yhat\n",
        "estimated1 = yhat1\n",
        "estimated2 = yhat2\n",
        "real = testY\n",
        "real = real.T\n",
        "plt.figure()\n",
        "plt.plot(estimated[:len(estimated)],label = \"Estimated by MLP , Sigmoid\")\n",
        "plt.plot(real[:len(real)], label = \"Real\")\n",
        "plt.legend(prop = {'size':10})\n",
        "\n",
        "plt.figure()\n",
        "plt.plot(estimated1[:len(estimated1)],label = \"Estimated by MLP , ReLU\")\n",
        "plt.plot(real[:len(real)], label = \"Real\")\n",
        "plt.legend(prop = {'size':10})\n",
        "\n",
        "plt.figure()\n",
        "plt.plot(estimated2[:len(estimated2)],label = \"Estimated by MLP , Linear\")\n",
        "plt.plot(real[:len(real)], label = \"Real\")\n",
        "plt.legend(prop = {'size':10})\n",
        "\n",
        "plt.figure()\n",
        "plt.plot(real[:len(real)], label = \"Real\")\n",
        "plt.legend(prop = {'size':10})"
      ],
      "metadata": {
        "id": "U__JUtnEzkRJ"
      },
      "execution_count": null,
      "outputs": []
    },
    {
      "cell_type": "code",
      "source": [
        "#Data Pre-preocssing for Forecasting\n",
        "def MinMaxScaler2(data, max, min):\n",
        "  denom = max - min\n",
        "  nume = data-min\n",
        "  return nume/denom\n",
        "\n",
        "#Forecasting\n",
        "forecasting_time = 10\n",
        "\n",
        "new1 = model.predict(ar_test_data_X_testify)\n",
        "print(\"A : \",ar_test_data_X_testify)\n",
        "new_feedback1 = new1[-1]\n",
        "print(\"B :\", new_feedback1)\n",
        "new_feedback = new_feedback1\n",
        "forecasted = []\n",
        "def forecast(forecasting_time) : \n",
        "  global forecasted\n",
        "  global new_feedback\n",
        "  for i in range(0, forecasting_time) : \n",
        "    new = model.predict(new_feedback)\n",
        "    new_feedback = new\n",
        "    if i%10 == 0 : print(i)\n",
        "    forecasted = np.append(forecasted, new)\n",
        "  return np.array(forecasted)\n",
        "\n",
        "forecasting_result = forecast(forecasting_time)\n"
      ],
      "metadata": {
        "id": "OaMpZBwnnl0i"
      },
      "execution_count": null,
      "outputs": []
    },
    {
      "cell_type": "code",
      "source": [
        "print(forecasting_result.dtype)\n",
        "print(forecasting_result.shape)\n",
        "print(forecasting_result)\n",
        "forecasting_result = back_MinMax(forecasting_result,testX_max, testX_min)\n",
        "t_estimated = forecasting_result\n",
        "print(\"REAL : \",real)"
      ],
      "metadata": {
        "id": "VINNl8-WFVkB"
      },
      "execution_count": null,
      "outputs": []
    },
    {
      "cell_type": "code",
      "source": [
        "real = ar_test_data_Y_testify_original\n",
        "real = real[testify + 1: testify + forecasting_time+1]\n",
        "print(\"Real : \",real.shape)\n",
        "plt.figure()\n",
        "plt.plot(real[0 : forecasting_time+1], label = \"Real\")\n",
        "plt.legend(prop = {'size':10})\n",
        "\n",
        "print(\"Estimated : \",t_estimated.shape)\n",
        "plt.figure()\n",
        "plt.plot(t_estimated,label = \"Forecasted by MLP\")\n",
        "plt.legend(prop = {'size':10})\n",
        "\n",
        "\n",
        "error = real - t_estimated\n",
        "plt.figure()\n",
        "plt.plot(error, label = \"Error\")\n",
        "plt.legend(prop = {'size':10})\n",
        "print(error)"
      ],
      "metadata": {
        "id": "NsOhOGbIscz_"
      },
      "execution_count": null,
      "outputs": []
    },
    {
      "cell_type": "code",
      "source": [
        "# This model is not that powerful for forecasting\n",
        "# I think this model has 2 critical problems. first, quantity of data. second, using only 1 feature\n",
        "# should find multi vibrate and time-series forecasting method. not estimating"
      ],
      "metadata": {
        "id": "PlfGLO9Xcda2"
      },
      "execution_count": null,
      "outputs": []
    }
  ]
}